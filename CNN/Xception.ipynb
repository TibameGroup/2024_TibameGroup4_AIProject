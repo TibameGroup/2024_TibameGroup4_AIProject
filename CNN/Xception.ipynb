{
 "cells": [
  {
   "cell_type": "code",
   "execution_count": 21,
   "metadata": {},
   "outputs": [],
   "source": [
    "from tensorflow.keras.applications import Xception\n",
    "from tensorflow.keras import layers, Model\n",
    "from tensorflow.keras.optimizers import Adam\n",
    "import tensorflow as tf\n",
    "import matplotlib.pyplot as plt\n",
    "import pathlib\n",
    "from tensorflow.keras.callbacks import EarlyStopping, ModelCheckpoint"
   ]
  },
  {
   "cell_type": "code",
   "execution_count": 22,
   "metadata": {},
   "outputs": [],
   "source": [
    "data_path = pathlib.Path(\"C:/小圖片/food_pic200_640\")\n",
    "category = 10"
   ]
  },
  {
   "cell_type": "code",
   "execution_count": 23,
   "metadata": {},
   "outputs": [
    {
     "name": "stdout",
     "output_type": "stream",
     "text": [
      "Found 2000 files belonging to 10 classes.\n",
      "Using 1600 files for training.\n",
      "Found 2000 files belonging to 10 classes.\n",
      "Using 400 files for validation.\n"
     ]
    }
   ],
   "source": [
    "# 訓練、驗證資料集\n",
    "train_dataset = tf.keras.utils.image_dataset_from_directory(\n",
    "    data_path,\n",
    "    labels=\"inferred\",\n",
    "    label_mode=\"int\",\n",
    "    image_size=(320, 320),  \n",
    "    validation_split=0.2,\n",
    "    subset=\"training\",\n",
    "    batch_size=32,\n",
    "    seed=42\n",
    ")\n",
    "\n",
    "validation_dataset = tf.keras.utils.image_dataset_from_directory(\n",
    "    data_path,\n",
    "    labels=\"inferred\",\n",
    "    label_mode=\"int\",\n",
    "    image_size=(320, 320),\n",
    "    validation_split=0.2,\n",
    "    subset=\"validation\",\n",
    "    batch_size=32,\n",
    "    seed=42\n",
    ")"
   ]
  },
  {
   "cell_type": "code",
   "execution_count": 24,
   "metadata": {},
   "outputs": [],
   "source": [
    "data_augmentation = tf.keras.Sequential([\n",
    "    layers.experimental.preprocessing.RandomZoom(0.2),\n",
    "    layers.experimental.preprocessing.RandomContrast(factor=0.1),\n",
    "    layers.experimental.preprocessing.RandomRotation(factor=0.2),\n",
    "    layers.GaussianNoise(0.2),\n",
    "])"
   ]
  },
  {
   "cell_type": "code",
   "execution_count": 25,
   "metadata": {},
   "outputs": [],
   "source": [
    "# 使用 Xception 預訓練模型\n",
    "base_model = Xception(input_shape=(320, 320, 3), include_top=False)\n",
    "base_model.trainable = False\n",
    "\n",
    "inputs = tf.keras.Input(shape=(320, 320, 3))\n",
    "x = data_augmentation(inputs)\n",
    "x = layers.Rescaling(1./255)(x)\n",
    "x = base_model(x, training=False)  # 使用 Xception 預訓練模型\n",
    "x = layers.GlobalAveragePooling2D()(x)\n",
    "x = layers.Dropout(0.5)(x)\n",
    "outputs = layers.Dense(category, activation='softmax')(x)\n",
    "\n",
    "model = Model(inputs, outputs)"
   ]
  },
  {
   "cell_type": "code",
   "execution_count": 26,
   "metadata": {},
   "outputs": [],
   "source": [
    "optimizer = Adam(learning_rate=0.0050)   #0.0047\n",
    "model.compile(optimizer=optimizer, loss=\"sparse_categorical_crossentropy\", metrics=[\"acc\"])"
   ]
  },
  {
   "cell_type": "code",
   "execution_count": 27,
   "metadata": {},
   "outputs": [],
   "source": [
    "# EarlyStopping \n",
    "early_stop = EarlyStopping(monitor='val_loss', \n",
    "                           patience=5,\n",
    "                          mode=\"min\")\n",
    "\n",
    "# ModelCheckpoint\n",
    "checkpoint = ModelCheckpoint('xception.{epoch:03d}-{val_loss:.4f}.pb',\n",
    "                             monitor='val_acc',\n",
    "                             verbose=0,\n",
    "                             save_best_only=True,\n",
    "                             mode=\"max\")  \n",
    "\n",
    "callbacks = [early_stop, checkpoint]"
   ]
  },
  {
   "cell_type": "code",
   "execution_count": 28,
   "metadata": {},
   "outputs": [],
   "source": [
    "# # 保留較好的訓練權重\n",
    "# callbacks = [\n",
    "#     tf.keras.callbacks.ModelCheckpoint(\n",
    "#         filepath='chi102_{epoch:02d}_{val_loss:.4f}.pb',\n",
    "#         save_best_only=True,\n",
    "#         monitor=\"val_loss\",\n",
    "#         verbose=0\n",
    "#     )\n",
    "# ]"
   ]
  },
  {
   "cell_type": "code",
   "execution_count": 29,
   "metadata": {},
   "outputs": [
    {
     "name": "stdout",
     "output_type": "stream",
     "text": [
      "Epoch 1/200\n",
      "50/50 [==============================] - 25s 461ms/step - loss: 1.0282 - acc: 0.6988 - val_loss: 0.3864 - val_acc: 0.9225\n",
      "INFO:tensorflow:Assets written to: xception.001-0.3864.pb\\assets\n"
     ]
    },
    {
     "name": "stderr",
     "output_type": "stream",
     "text": [
      "c:\\Users\\user\\Desktop\\kaggle_test\\.venv\\lib\\site-packages\\keras\\utils\\generic_utils.py:494: CustomMaskWarning: Custom mask layers require a config and must override get_config. When loading, the custom mask layer must be passed to the custom_objects argument.\n",
      "  warnings.warn('Custom mask layers require a config and must override '\n"
     ]
    },
    {
     "name": "stdout",
     "output_type": "stream",
     "text": [
      "Epoch 2/200\n",
      "50/50 [==============================] - 23s 459ms/step - loss: 0.3605 - acc: 0.9100 - val_loss: 0.2216 - val_acc: 0.9700\n",
      "INFO:tensorflow:Assets written to: xception.002-0.2216.pb\\assets\n"
     ]
    },
    {
     "name": "stderr",
     "output_type": "stream",
     "text": [
      "c:\\Users\\user\\Desktop\\kaggle_test\\.venv\\lib\\site-packages\\keras\\utils\\generic_utils.py:494: CustomMaskWarning: Custom mask layers require a config and must override get_config. When loading, the custom mask layer must be passed to the custom_objects argument.\n",
      "  warnings.warn('Custom mask layers require a config and must override '\n"
     ]
    },
    {
     "name": "stdout",
     "output_type": "stream",
     "text": [
      "Epoch 3/200\n",
      "50/50 [==============================] - 23s 458ms/step - loss: 0.2434 - acc: 0.9450 - val_loss: 0.1674 - val_acc: 0.9700\n",
      "Epoch 4/200\n",
      "50/50 [==============================] - 23s 456ms/step - loss: 0.2108 - acc: 0.9444 - val_loss: 0.1514 - val_acc: 0.9675\n",
      "Epoch 5/200\n",
      "50/50 [==============================] - 23s 455ms/step - loss: 0.1725 - acc: 0.9525 - val_loss: 0.0854 - val_acc: 0.9925\n",
      "INFO:tensorflow:Assets written to: xception.005-0.0854.pb\\assets\n"
     ]
    },
    {
     "name": "stderr",
     "output_type": "stream",
     "text": [
      "c:\\Users\\user\\Desktop\\kaggle_test\\.venv\\lib\\site-packages\\keras\\utils\\generic_utils.py:494: CustomMaskWarning: Custom mask layers require a config and must override get_config. When loading, the custom mask layer must be passed to the custom_objects argument.\n",
      "  warnings.warn('Custom mask layers require a config and must override '\n"
     ]
    },
    {
     "name": "stdout",
     "output_type": "stream",
     "text": [
      "Epoch 6/200\n",
      "50/50 [==============================] - 23s 454ms/step - loss: 0.1626 - acc: 0.9619 - val_loss: 0.0895 - val_acc: 0.9875\n",
      "Epoch 7/200\n",
      "50/50 [==============================] - 23s 451ms/step - loss: 0.1325 - acc: 0.9631 - val_loss: 0.0670 - val_acc: 0.9925\n",
      "Epoch 8/200\n",
      "50/50 [==============================] - 23s 459ms/step - loss: 0.1353 - acc: 0.9581 - val_loss: 0.0596 - val_acc: 0.9925\n",
      "Epoch 9/200\n",
      "50/50 [==============================] - 23s 458ms/step - loss: 0.1234 - acc: 0.9644 - val_loss: 0.1005 - val_acc: 0.9750\n",
      "Epoch 10/200\n",
      "50/50 [==============================] - 23s 456ms/step - loss: 0.1192 - acc: 0.9656 - val_loss: 0.0550 - val_acc: 0.9925\n",
      "Epoch 11/200\n",
      "50/50 [==============================] - 23s 458ms/step - loss: 0.1214 - acc: 0.9619 - val_loss: 0.0431 - val_acc: 0.9950\n",
      "INFO:tensorflow:Assets written to: xception.011-0.0431.pb\\assets\n"
     ]
    },
    {
     "name": "stderr",
     "output_type": "stream",
     "text": [
      "c:\\Users\\user\\Desktop\\kaggle_test\\.venv\\lib\\site-packages\\keras\\utils\\generic_utils.py:494: CustomMaskWarning: Custom mask layers require a config and must override get_config. When loading, the custom mask layer must be passed to the custom_objects argument.\n",
      "  warnings.warn('Custom mask layers require a config and must override '\n"
     ]
    },
    {
     "name": "stdout",
     "output_type": "stream",
     "text": [
      "Epoch 12/200\n",
      "50/50 [==============================] - 23s 454ms/step - loss: 0.1062 - acc: 0.9706 - val_loss: 0.0483 - val_acc: 0.9975\n",
      "INFO:tensorflow:Assets written to: xception.012-0.0483.pb\\assets\n"
     ]
    },
    {
     "name": "stderr",
     "output_type": "stream",
     "text": [
      "c:\\Users\\user\\Desktop\\kaggle_test\\.venv\\lib\\site-packages\\keras\\utils\\generic_utils.py:494: CustomMaskWarning: Custom mask layers require a config and must override get_config. When loading, the custom mask layer must be passed to the custom_objects argument.\n",
      "  warnings.warn('Custom mask layers require a config and must override '\n"
     ]
    },
    {
     "name": "stdout",
     "output_type": "stream",
     "text": [
      "Epoch 13/200\n",
      "50/50 [==============================] - 23s 459ms/step - loss: 0.0986 - acc: 0.9694 - val_loss: 0.0538 - val_acc: 0.9875\n",
      "Epoch 14/200\n",
      "50/50 [==============================] - 23s 457ms/step - loss: 0.1062 - acc: 0.9675 - val_loss: 0.0446 - val_acc: 0.9925\n",
      "Epoch 15/200\n",
      "50/50 [==============================] - 23s 459ms/step - loss: 0.1175 - acc: 0.9631 - val_loss: 0.0418 - val_acc: 0.9950\n",
      "Epoch 16/200\n",
      "50/50 [==============================] - 23s 458ms/step - loss: 0.1100 - acc: 0.9681 - val_loss: 0.0362 - val_acc: 0.9950\n",
      "Epoch 17/200\n",
      "50/50 [==============================] - 23s 457ms/step - loss: 0.0872 - acc: 0.9694 - val_loss: 0.0374 - val_acc: 0.9900\n",
      "Epoch 18/200\n",
      "50/50 [==============================] - 23s 459ms/step - loss: 0.0801 - acc: 0.9737 - val_loss: 0.0258 - val_acc: 0.9975\n",
      "Epoch 19/200\n",
      "50/50 [==============================] - 23s 459ms/step - loss: 0.0863 - acc: 0.9688 - val_loss: 0.0286 - val_acc: 1.0000\n",
      "INFO:tensorflow:Assets written to: xception.019-0.0286.pb\\assets\n"
     ]
    },
    {
     "name": "stderr",
     "output_type": "stream",
     "text": [
      "c:\\Users\\user\\Desktop\\kaggle_test\\.venv\\lib\\site-packages\\keras\\utils\\generic_utils.py:494: CustomMaskWarning: Custom mask layers require a config and must override get_config. When loading, the custom mask layer must be passed to the custom_objects argument.\n",
      "  warnings.warn('Custom mask layers require a config and must override '\n"
     ]
    },
    {
     "name": "stdout",
     "output_type": "stream",
     "text": [
      "Epoch 20/200\n",
      "50/50 [==============================] - 23s 451ms/step - loss: 0.0769 - acc: 0.9762 - val_loss: 0.0362 - val_acc: 0.9925\n",
      "Epoch 21/200\n",
      "50/50 [==============================] - 23s 454ms/step - loss: 0.0885 - acc: 0.9663 - val_loss: 0.0260 - val_acc: 0.9950\n",
      "Epoch 22/200\n",
      "50/50 [==============================] - 23s 458ms/step - loss: 0.0851 - acc: 0.9712 - val_loss: 0.0274 - val_acc: 0.9925\n",
      "Epoch 23/200\n",
      "50/50 [==============================] - 23s 456ms/step - loss: 0.0956 - acc: 0.9694 - val_loss: 0.0384 - val_acc: 0.9950\n"
     ]
    }
   ],
   "source": [
    "# 訓練結果\n",
    "history = model.fit(\n",
    "    train_dataset,\n",
    "    #validation_split=0.2,\n",
    "    epochs=200,\n",
    "    validation_data=validation_dataset,\n",
    "    callbacks=callbacks\n",
    ")"
   ]
  },
  {
   "cell_type": "code",
   "execution_count": 30,
   "metadata": {},
   "outputs": [
    {
     "data": {
      "image/png": "[encoded data removed]",
      "text/plain": [
       "<Figure size 640x480 with 1 Axes>"
      ]
     },
     "metadata": {},
     "output_type": "display_data"
    },
    {
     "data": {
      "image/png": "[encoded data removed]",
      "text/plain": [
       "<Figure size 640x480 with 1 Axes>"
      ]
     },
     "metadata": {},
     "output_type": "display_data"
    }
   ],
   "source": [
    "# 繪製訓練結果\n",
    "acc = history.history[\"acc\"]\n",
    "val_acc = history.history[\"val_acc\"]\n",
    "loss = history.history[\"loss\"]\n",
    "val_loss = history.history[\"val_loss\"]\n",
    "epochs = range(1, len(acc) + 1)\n",
    "\n",
    "plt.plot(epochs, acc, \"bo\", label=\"Training acc\")\n",
    "plt.plot(epochs, val_acc, \"r\", label=\"Validation acc\")\n",
    "plt.title(\"Training and Validation Accuracy of Xception\")\n",
    "plt.legend()\n",
    "plt.figure()\n",
    "\n",
    "plt.plot(epochs, loss, \"bo\", label=\"Training loss\")\n",
    "plt.plot(epochs, val_loss, \"r\", label=\"Validation loss\")\n",
    "plt.title(\"Training and Validation Loss of Xception\")\n",
    "plt.legend()\n",
    "plt.show()"
   ]
  }
 ],
 "metadata": {
  "kernelspec": {
   "display_name": "Python 3",
   "language": "python",
   "name": "python3"
  },
  "language_info": {
   "codemirror_mode": {
    "name": "ipython",
    "version": 3
   },
   "file_extension": ".py",
   "mimetype": "text/x-python",
   "name": "python",
   "nbconvert_exporter": "python",
   "pygments_lexer": "ipython3",
   "version": "3.9.1"
  }
 },
 "nbformat": 4,
 "nbformat_minor": 2
}
