{
 "cells": [
  {
   "cell_type": "code",
   "execution_count": 1,
   "metadata": {},
   "outputs": [
    {
     "name": "stdout",
     "output_type": "stream",
     "text": [
      "Found 200 files belonging to 10 classes.\n",
      "17/17 [==============================] - 14s 247ms/step - loss: 0.4803 - acc: 0.8350\n",
      "test acc: 0.835\n",
      "[\n",
      "[12 0 0 1 0 0 0 3 2 2]\n",
      "[0 16 0 0 0 0 0 4 0 0]\n",
      "[0 0 19 0 0 0 0 1 0 0]\n",
      "[0 0 0 20 0 0 0 0 0 0]\n",
      "[0 0 0 0 20 0 0 0 0 0]\n",
      "[0 0 0 0 0 20 0 0 0 0]\n",
      "[0 0 0 0 0 0 18 1 0 1]\n",
      "[0 0 0 1 0 0 0 19 0 0]\n",
      "[0 0 0 0 0 0 0 3 16 1]\n",
      "[0 1 0 0 0 1 0 4 7 7]\n",
      "]\n"
     ]
    }
   ],
   "source": [
    "from tensorflow import keras\n",
    "import tensorflow as tf\n",
    "from keras.models import load_model\n",
    "import numpy as np  \n",
    "import pathlib  \n",
    "from tensorflow.keras.utils import image_dataset_from_directory\n",
    "from sklearn.metrics import confusion_matrix\n",
    "import json\n",
    "\n",
    "#load訓練好的模型路徑\n",
    "test_model = tf.keras.models.load_model(\"inceptionV3.025-0.0506.pb\")  \n",
    "\n",
    "#預測圖片路徑\n",
    "test_data_path = pathlib.Path(\"C:/小圖片/ord_test\")\n",
    "test_dataset = image_dataset_from_directory(\n",
    "    test_data_path, \n",
    "    image_size=(320, 320),\n",
    "    batch_size=12,\n",
    "\n",
    ")\n",
    "\n",
    "#评估模型 \n",
    "test_loss, test_acc = test_model.evaluate(test_dataset)\n",
    "print(f\"test acc: {test_acc:.3f}\")\n",
    "\n",
    "#预测模型  \n",
    "true_labels = []\n",
    "predicted_labels = []  \n",
    "for images, labels in test_dataset:\n",
    "    true_labels.extend(labels.numpy())\n",
    "    predictions = test_model.predict(images)\n",
    "    predicted_labels.extend(np.argmax(predictions, axis=1))\n",
    "\n",
    "conf_matrix = confusion_matrix(true_labels , predicted_labels)  \n",
    "print('[')\n",
    "print('\\n'.join([f'[{\" \".join(str(x) for x in row)}]' for row in conf_matrix]))  \n",
    "print(']')\n"
   ]
  }
 ],
 "metadata": {
  "kernelspec": {
   "display_name": ".venv",
   "language": "python",
   "name": "python3"
  },
  "language_info": {
   "codemirror_mode": {
    "name": "ipython",
    "version": 3
   },
   "file_extension": ".py",
   "mimetype": "text/x-python",
   "name": "python",
   "nbconvert_exporter": "python",
   "pygments_lexer": "ipython3",
   "version": "3.9.1"
  }
 },
 "nbformat": 4,
 "nbformat_minor": 2
}
