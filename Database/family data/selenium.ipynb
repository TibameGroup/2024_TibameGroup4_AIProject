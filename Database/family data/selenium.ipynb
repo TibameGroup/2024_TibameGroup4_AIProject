{
 "cells": [
  {
   "cell_type": "code",
   "execution_count": 1,
   "metadata": {},
   "outputs": [],
   "source": [
    "from bs4 import BeautifulSoup\n",
    "from selenium.webdriver import Chrome\n",
    "from selenium.webdriver.common.by import By\n",
    "from selenium.webdriver.chrome.service import Service\n",
    "import time\n",
    "import random"
   ]
  },
  {
   "cell_type": "code",
   "execution_count": 62,
   "metadata": {},
   "outputs": [],
   "source": [
    "def item_soup(html):\n",
    "    soup = BeautifulSoup(html, 'html.parser')\n",
    "    results = soup.find_all(\"img\", {\"loading\": \"lazy\"})\n",
    "    temp_id = [result.get(\"src\").split(\".\")[4] for result in results] \n",
    "    return temp_id"
   ]
  },
  {
   "cell_type": "code",
   "execution_count": 86,
   "metadata": {},
   "outputs": [
    {
     "name": "stdout",
     "output_type": "stream",
     "text": [
      "cal: 1\n",
      "temp_list: 19\n",
      "item: 1  num: 12\n",
      "item: 2  num: 8\n",
      "item: 3  num: 19\n",
      "item: 4  num: 45\n",
      "item: 5  num: 55\n",
      "item: 6  num: 5\n",
      "item: 7  num: 20\n",
      "item: 8  num: 5\n",
      "item: 9  num: 5\n",
      "item: 10  num: 11\n",
      "item: 11  num: 6\n",
      "item: 12  num: 42\n",
      "item: 13  num: 23\n",
      "item: 14  num: 96\n",
      "item: 15  num: 312\n",
      "item: 16  num: 453\n",
      "item: 17  num: 132\n",
      "-----------------all_id:1297---------------------\n",
      "cal: 2\n",
      "temp_list: 19\n",
      "item: 1  num: 69\n",
      "item: 2  num: 8\n",
      "item: 3  num: 15\n",
      "item: 4  num: 8\n",
      "item: 5  num: 19\n",
      "item: 6  num: 15\n",
      "item: 7  num: 57\n",
      "item: 8  num: 35\n",
      "item: 9  num: 12\n",
      "item: 10  num: 2\n",
      "item: 11  num: 3\n",
      "item: 12  num: 57\n",
      "item: 13  num: 36\n",
      "item: 14  num: 45\n",
      "item: 15  num: 29\n",
      "item: 16  num: 67\n",
      "item: 17  num: 53\n",
      "-----------------all_id:1781---------------------\n",
      "cal: 3\n",
      "temp_list: 10\n",
      "item: 1  num: 4\n",
      "item: 2  num: 31\n",
      "item: 3  num: 2\n",
      "item: 4  num: 2\n",
      "item: 5  num: 15\n",
      "item: 6  num: 2\n",
      "item: 7  num: 8\n",
      "item: 8  num: 12\n",
      "-----------------all_id:1923---------------------\n",
      "cal: 4\n",
      "temp_list: 4\n",
      "item: 1  num: 88\n",
      "item: 2  num: 1\n",
      "-----------------all_id:1949---------------------\n",
      "cal: 5\n",
      "temp_list: 4\n",
      "item: 1  num: 6\n",
      "item: 2  num: 3\n",
      "-----------------all_id:1955---------------------\n"
     ]
    }
   ],
   "source": [
    "service = Service(\"./chromedriver.exe\")\n",
    "driver = Chrome(service=service)\n",
    "url = 'https://foodsafety.family.com.tw/Web_FFD_2022/'\n",
    "all_id = set()\n",
    "temp_allnum = len(all_id)\n",
    "\n",
    "driver.get(url)\n",
    "time.sleep(random.randint(0,5))\n",
    "\n",
    "for j in range(1,6):\n",
    "    print('cal:', j)\n",
    "    # 按下進階查詢按鈕\n",
    "    driver.find_element(by=By.XPATH, value='//*[@id=\"app\"]/div/div[2]/div[1]/button[2]').click()\n",
    "    time.sleep(random.randint(0,5))\n",
    "    # 按下200卡以下按鈕\n",
    "    var_cal = f'//*[@id=\"app\"]/div/div[2]/div[2]/div[5]/ul/li[{j}]/label/i'\n",
    "    driver.find_element(by=By.XPATH, value=var_cal).click()\n",
    "    time.sleep(random.randint(0,5))\n",
    "\n",
    "    # 按下搜尋按鈕\n",
    "    driver.find_element(\n",
    "        by=By.XPATH, value='//*[@id=\"app\"]/div/div[2]/div[2]/div[7]/button'\n",
    "    ).click()\n",
    "    stop = random.randint(10,15)\n",
    "    # print(stop)\n",
    "    time.sleep(stop)\n",
    "\n",
    "    # 取得目前的 html 字串\n",
    "    html = driver.execute_script(\"return document.getElementsByTagName('html')[0].outerHTML\")\n",
    "    # 第一個分類\n",
    "    temp_list = BeautifulSoup(html, 'html.parser').select('div[class=\"category\"] span')\n",
    "    print(\"temp_list:\", len(temp_list))\n",
    "    temp_id = item_soup(html)\n",
    "    all_id.update(temp_id)\n",
    "    \n",
    "\n",
    "    # 第二個到最後\n",
    "    for i in range(2,len(temp_list)):\n",
    "        print('item:', i-1,' num:',len(all_id)-temp_allnum)\n",
    "        temp_allnum = len(all_id)\n",
    "        if (len(temp_list) > 6) & (i < len(temp_list)-5):\n",
    "            # 往右滑動\n",
    "            driver.find_element(by=By.XPATH, value='//*[@id=\"app\"]/div/div[2]/div/div[3]').click()\n",
    "            time.sleep(random.randint(0,3))\n",
    "        # 按下搜尋按鈕\n",
    "        var_item = f'//*[@id=\"app\"]/div/div[2]/div/div[1]/ul/li[{i}]/a/img'\n",
    "        driver.find_element(by=By.XPATH, value=var_item).click()\n",
    "        stop = random.randint(8,15)\n",
    "        # print(stop)\n",
    "        time.sleep(stop)\n",
    "        html = driver.execute_script(\"return document.getElementsByTagName('html')[0].outerHTML\")\n",
    "        temp_id = item_soup(html)\n",
    "        # print(temp_id)\n",
    "        all_id.update(temp_id)\n",
    "        \n",
    "\n",
    "    driver.find_element(by=By.XPATH, value='//*[@id=\"app\"]/div/div[1]/a/i').click()\n",
    "    time.sleep(random.randint(0,3))\n",
    "    print(f'-----------------all_id:{len(all_id)}---------------------')\n",
    "driver.quit()"
   ]
  },
  {
   "cell_type": "code",
   "execution_count": 87,
   "metadata": {},
   "outputs": [
    {
     "data": {
      "text/plain": [
       "1955"
      ]
     },
     "execution_count": 87,
     "metadata": {},
     "output_type": "execute_result"
    }
   ],
   "source": [
    "test1 = all_id\n",
    "len(test1)"
   ]
  },
  {
   "cell_type": "code",
   "execution_count": 93,
   "metadata": {},
   "outputs": [],
   "source": [
    "with open(\"all_id.txt\", \"w\") as outfile:          #Open file to write\n",
    "    for id in all_id:\n",
    "        outfile.write(id+\"\\n\") "
   ]
  }
 ],
 "metadata": {
  "kernelspec": {
   "display_name": "pyetl-qVtm18_B",
   "language": "python",
   "name": "python3"
  },
  "language_info": {
   "codemirror_mode": {
    "name": "ipython",
    "version": 3
   },
   "file_extension": ".py",
   "mimetype": "text/x-python",
   "name": "python",
   "nbconvert_exporter": "python",
   "pygments_lexer": "ipython3",
   "version": "3.12.0"
  }
 },
 "nbformat": 4,
 "nbformat_minor": 2
}
